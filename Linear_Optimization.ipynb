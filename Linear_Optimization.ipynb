{
  "nbformat": 4,
  "nbformat_minor": 0,
  "metadata": {
    "colab": {
      "name": "Linear Optimization.ipynb",
      "provenance": [],
      "authorship_tag": "ABX9TyOIZChYefNU3Go/VmUaQzx0",
      "include_colab_link": true
    },
    "kernelspec": {
      "name": "python3",
      "display_name": "Python 3"
    },
    "language_info": {
      "name": "python"
    }
  },
  "cells": [
    {
      "cell_type": "markdown",
      "metadata": {
        "id": "view-in-github",
        "colab_type": "text"
      },
      "source": [
        "<a href=\"https://colab.research.google.com/github/ArchanaBarigela/AI/blob/main/Linear_Optimization.ipynb\" target=\"_parent\"><img src=\"https://colab.research.google.com/assets/colab-badge.svg\" alt=\"Open In Colab\"/></a>"
      ]
    },
    {
      "cell_type": "code",
      "metadata": {
        "colab": {
          "base_uri": "https://localhost:8080/"
        },
        "id": "eDJBGt8--8Dw",
        "outputId": "78091e93-7bc8-46b7-893c-c0682f159cf2"
      },
      "source": [
        "from scipy.optimize import linprog\n",
        "obj=[-50,-120]\n",
        "A_ieq=[[7000,2000],[10,30]]\n",
        "B_ieq=[700000,1200]\n",
        "boundary=[(0,float('inf')),(0,float('inf'))]\n",
        "opt=linprog(c=obj,A_ub=A_ieq,b_ub=B_ieq,A_eq=None,bounds=boundary,method=\"simplex\")\n",
        "print('Area under which Wheat should be grown=',round(opt.x[0]))\n",
        "print('Area under which Barley should be grown=',round(opt.x[1]))"
      ],
      "execution_count": 1,
      "outputs": [
        {
          "output_type": "stream",
          "text": [
            "Area under which Wheat should be grown= 98\n",
            "Area under which Barley should be grown= 7\n"
          ],
          "name": "stdout"
        }
      ]
    }
  ]
}